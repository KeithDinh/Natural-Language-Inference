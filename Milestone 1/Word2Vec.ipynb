{
 "cells": [
  {
   "cell_type": "code",
   "execution_count": 1,
   "metadata": {
    "collapsed": true,
    "jupyter": {
     "outputs_hidden": true
    }
   },
   "outputs": [
    {
     "data": {
      "text/html": [
       "<div>\n",
       "<style scoped>\n",
       "    .dataframe tbody tr th:only-of-type {\n",
       "        vertical-align: middle;\n",
       "    }\n",
       "\n",
       "    .dataframe tbody tr th {\n",
       "        vertical-align: top;\n",
       "    }\n",
       "\n",
       "    .dataframe thead th {\n",
       "        text-align: right;\n",
       "    }\n",
       "</style>\n",
       "<table border=\"1\" class=\"dataframe\">\n",
       "  <thead>\n",
       "    <tr style=\"text-align: right;\">\n",
       "      <th></th>\n",
       "      <th>gold_label</th>\n",
       "      <th>sentence1_binary_parse</th>\n",
       "      <th>sentence2_binary_parse</th>\n",
       "      <th>sentence1_parse</th>\n",
       "      <th>sentence2_parse</th>\n",
       "      <th>sentence1</th>\n",
       "      <th>sentence2</th>\n",
       "      <th>label1</th>\n",
       "      <th>label2</th>\n",
       "      <th>label3</th>\n",
       "      <th>label4</th>\n",
       "      <th>label5</th>\n",
       "    </tr>\n",
       "  </thead>\n",
       "  <tbody>\n",
       "    <tr>\n",
       "      <td>0</td>\n",
       "      <td>neutral</td>\n",
       "      <td>( ( ( A person ) ( on ( a horse ) ) ) ( ( jump...</td>\n",
       "      <td>( ( A person ) ( ( is ( ( training ( his horse...</td>\n",
       "      <td>(ROOT (S (NP (NP (DT A) (NN person)) (PP (IN o...</td>\n",
       "      <td>(ROOT (S (NP (DT A) (NN person)) (VP (VBZ is) ...</td>\n",
       "      <td>A person on a horse jumps over a broken down a...</td>\n",
       "      <td>A person is training his horse for a competition.</td>\n",
       "      <td>neutral</td>\n",
       "      <td>NaN</td>\n",
       "      <td>NaN</td>\n",
       "      <td>NaN</td>\n",
       "      <td>NaN</td>\n",
       "    </tr>\n",
       "    <tr>\n",
       "      <td>1</td>\n",
       "      <td>contradiction</td>\n",
       "      <td>( ( ( A person ) ( on ( a horse ) ) ) ( ( jump...</td>\n",
       "      <td>( ( A person ) ( ( ( ( is ( at ( a diner ) ) )...</td>\n",
       "      <td>(ROOT (S (NP (NP (DT A) (NN person)) (PP (IN o...</td>\n",
       "      <td>(ROOT (S (NP (DT A) (NN person)) (VP (VBZ is) ...</td>\n",
       "      <td>A person on a horse jumps over a broken down a...</td>\n",
       "      <td>A person is at a diner, ordering an omelette.</td>\n",
       "      <td>contradiction</td>\n",
       "      <td>NaN</td>\n",
       "      <td>NaN</td>\n",
       "      <td>NaN</td>\n",
       "      <td>NaN</td>\n",
       "    </tr>\n",
       "    <tr>\n",
       "      <td>2</td>\n",
       "      <td>entailment</td>\n",
       "      <td>( ( ( A person ) ( on ( a horse ) ) ) ( ( jump...</td>\n",
       "      <td>( ( A person ) ( ( ( ( is outdoors ) , ) ( on ...</td>\n",
       "      <td>(ROOT (S (NP (NP (DT A) (NN person)) (PP (IN o...</td>\n",
       "      <td>(ROOT (S (NP (DT A) (NN person)) (VP (VBZ is) ...</td>\n",
       "      <td>A person on a horse jumps over a broken down a...</td>\n",
       "      <td>A person is outdoors, on a horse.</td>\n",
       "      <td>entailment</td>\n",
       "      <td>NaN</td>\n",
       "      <td>NaN</td>\n",
       "      <td>NaN</td>\n",
       "      <td>NaN</td>\n",
       "    </tr>\n",
       "    <tr>\n",
       "      <td>3</td>\n",
       "      <td>neutral</td>\n",
       "      <td>( Children ( ( ( smiling and ) waving ) ( at c...</td>\n",
       "      <td>( They ( are ( smiling ( at ( their parents ) ...</td>\n",
       "      <td>(ROOT (NP (S (NP (NNP Children)) (VP (VBG smil...</td>\n",
       "      <td>(ROOT (S (NP (PRP They)) (VP (VBP are) (VP (VB...</td>\n",
       "      <td>Children smiling and waving at camera</td>\n",
       "      <td>They are smiling at their parents</td>\n",
       "      <td>neutral</td>\n",
       "      <td>NaN</td>\n",
       "      <td>NaN</td>\n",
       "      <td>NaN</td>\n",
       "      <td>NaN</td>\n",
       "    </tr>\n",
       "    <tr>\n",
       "      <td>4</td>\n",
       "      <td>entailment</td>\n",
       "      <td>( Children ( ( ( smiling and ) waving ) ( at c...</td>\n",
       "      <td>( There ( ( are children ) present ) )</td>\n",
       "      <td>(ROOT (NP (S (NP (NNP Children)) (VP (VBG smil...</td>\n",
       "      <td>(ROOT (S (NP (EX There)) (VP (VBP are) (NP (NN...</td>\n",
       "      <td>Children smiling and waving at camera</td>\n",
       "      <td>There are children present</td>\n",
       "      <td>entailment</td>\n",
       "      <td>NaN</td>\n",
       "      <td>NaN</td>\n",
       "      <td>NaN</td>\n",
       "      <td>NaN</td>\n",
       "    </tr>\n",
       "  </tbody>\n",
       "</table>\n",
       "</div>"
      ],
      "text/plain": [
       "      gold_label                             sentence1_binary_parse  \\\n",
       "0        neutral  ( ( ( A person ) ( on ( a horse ) ) ) ( ( jump...   \n",
       "1  contradiction  ( ( ( A person ) ( on ( a horse ) ) ) ( ( jump...   \n",
       "2     entailment  ( ( ( A person ) ( on ( a horse ) ) ) ( ( jump...   \n",
       "3        neutral  ( Children ( ( ( smiling and ) waving ) ( at c...   \n",
       "4     entailment  ( Children ( ( ( smiling and ) waving ) ( at c...   \n",
       "\n",
       "                              sentence2_binary_parse  \\\n",
       "0  ( ( A person ) ( ( is ( ( training ( his horse...   \n",
       "1  ( ( A person ) ( ( ( ( is ( at ( a diner ) ) )...   \n",
       "2  ( ( A person ) ( ( ( ( is outdoors ) , ) ( on ...   \n",
       "3  ( They ( are ( smiling ( at ( their parents ) ...   \n",
       "4             ( There ( ( are children ) present ) )   \n",
       "\n",
       "                                     sentence1_parse  \\\n",
       "0  (ROOT (S (NP (NP (DT A) (NN person)) (PP (IN o...   \n",
       "1  (ROOT (S (NP (NP (DT A) (NN person)) (PP (IN o...   \n",
       "2  (ROOT (S (NP (NP (DT A) (NN person)) (PP (IN o...   \n",
       "3  (ROOT (NP (S (NP (NNP Children)) (VP (VBG smil...   \n",
       "4  (ROOT (NP (S (NP (NNP Children)) (VP (VBG smil...   \n",
       "\n",
       "                                     sentence2_parse  \\\n",
       "0  (ROOT (S (NP (DT A) (NN person)) (VP (VBZ is) ...   \n",
       "1  (ROOT (S (NP (DT A) (NN person)) (VP (VBZ is) ...   \n",
       "2  (ROOT (S (NP (DT A) (NN person)) (VP (VBZ is) ...   \n",
       "3  (ROOT (S (NP (PRP They)) (VP (VBP are) (VP (VB...   \n",
       "4  (ROOT (S (NP (EX There)) (VP (VBP are) (NP (NN...   \n",
       "\n",
       "                                           sentence1  \\\n",
       "0  A person on a horse jumps over a broken down a...   \n",
       "1  A person on a horse jumps over a broken down a...   \n",
       "2  A person on a horse jumps over a broken down a...   \n",
       "3              Children smiling and waving at camera   \n",
       "4              Children smiling and waving at camera   \n",
       "\n",
       "                                           sentence2         label1 label2  \\\n",
       "0  A person is training his horse for a competition.        neutral    NaN   \n",
       "1      A person is at a diner, ordering an omelette.  contradiction    NaN   \n",
       "2                  A person is outdoors, on a horse.     entailment    NaN   \n",
       "3                  They are smiling at their parents        neutral    NaN   \n",
       "4                         There are children present     entailment    NaN   \n",
       "\n",
       "  label3 label4 label5  \n",
       "0    NaN    NaN    NaN  \n",
       "1    NaN    NaN    NaN  \n",
       "2    NaN    NaN    NaN  \n",
       "3    NaN    NaN    NaN  \n",
       "4    NaN    NaN    NaN  "
      ]
     },
     "execution_count": 1,
     "metadata": {},
     "output_type": "execute_result"
    }
   ],
   "source": [
    "import pandas as pd\n",
    "import string\n",
    "import time\n",
    "import numpy as np\n",
    "data_frame = pd.read_csv(r'Export_CSV\\training_clean.csv')\n",
    "data_frame.head()"
   ]
  },
  {
   "cell_type": "code",
   "execution_count": 2,
   "metadata": {},
   "outputs": [],
   "source": [
    "#convert sentence1_parse column intro panda series\n",
    "data_frame[\"sentence1_parse\"] = data_frame[\"sentence1_parse\"].astype(str)\n",
    "data_frame[\"sentence2_parse\"] = data_frame[\"sentence2_parse\"].astype(str)"
   ]
  },
  {
   "cell_type": "code",
   "execution_count": 3,
   "metadata": {},
   "outputs": [],
   "source": [
    "#remove parenthesises from sentence1_parse dataframe\n",
    "df_sentence1_parse = data_frame[\"sentence1_parse\"].str.replace('(','')\n",
    "df_sentence1_parse = df_sentence1_parse.str.replace(')','')\n",
    "df_sentence2_parse = data_frame[\"sentence2_parse\"].str.replace('(','')\n",
    "df_sentence2_parse = df_sentence2_parse.str.replace(')','')"
   ]
  },
  {
   "cell_type": "code",
   "execution_count": 4,
   "metadata": {},
   "outputs": [],
   "source": [
    "#Extract sentence1 and sentence2 columns\n",
    "sentence1 = data_frame[\"sentence1\"].astype(str)\n",
    "sentence2 = data_frame[\"sentence2\"].astype(str)"
   ]
  },
  {
   "cell_type": "code",
   "execution_count": 5,
   "metadata": {},
   "outputs": [
    {
     "data": {
      "text/plain": [
       "pandas.core.series.Series"
      ]
     },
     "execution_count": 5,
     "metadata": {},
     "output_type": "execute_result"
    }
   ],
   "source": [
    "type(sentence1)"
   ]
  },
  {
   "cell_type": "code",
   "execution_count": 6,
   "metadata": {},
   "outputs": [],
   "source": [
    "#This function remove punctuation & convert words to lowercase then return\n",
    "#a list of unique words \n",
    "def getUniqueWords(sentence_column):\n",
    "    words_sentences = []\n",
    "    #go through each sentence in sentences column\n",
    "    for sentence in sentence_column:\n",
    "        #go through each word in each sentence\n",
    "        for word in sentence.split():\n",
    "            #remove punctuation \n",
    "            if word not in string.punctuation:\n",
    "                #make words lowercase\n",
    "                words_sentences.append(word.lower())\n",
    "    #return a unique list of words in setence column\n",
    "    return set(words_sentences)"
   ]
  },
  {
   "cell_type": "code",
   "execution_count": 7,
   "metadata": {},
   "outputs": [
    {
     "name": "stdout",
     "output_type": "stream",
     "text": [
      "30766\n",
      "47170\n"
     ]
    }
   ],
   "source": [
    "#get unique words for sentence 1 column\n",
    "words_sentence1 = getUniqueWords(sentence1)\n",
    "#Number of unique words in sentence1 column\n",
    "print(len(words_sentence1))\n",
    "#get unique words for sentence 2 column\n",
    "words_sentence2 = getUniqueWords(sentence2)\n",
    "#Number of unique words in sentence2 column\n",
    "print(len(words_sentence2))"
   ]
  },
  {
   "cell_type": "code",
   "execution_count": 8,
   "metadata": {},
   "outputs": [],
   "source": [
    "#Hash words to integer & integer to words\n",
    "words_sentence1_to_int = {}\n",
    "int_to_words_sentence1 = {}\n",
    "for index, word in enumerate(words_sentence1):\n",
    "    words_sentence1_to_int[word] = index\n",
    "    int_to_words_sentence1[index] = word\n"
   ]
  },
  {
   "cell_type": "code",
   "execution_count": 9,
   "metadata": {},
   "outputs": [],
   "source": [
    "#Input: sentence column\n",
    "#Output: a list of list, each index is list of words within sentences \n",
    "#Output example [['he','is','a','student'],['she','is','a','teacher']]\n",
    "def split_sentences(sentence_column):\n",
    "    list_of_sentences = []\n",
    "    for sentence in sentence_column:\n",
    "        #store words in each sentence\n",
    "        list_of_words = []\n",
    "        for word in sentence.split():\n",
    "            if word not in string.punctuation:\n",
    "                list_of_words.append(word.lower())\n",
    "        list_of_sentences.append(list_of_words)\n",
    "    return list_of_sentences"
   ]
  },
  {
   "cell_type": "code",
   "execution_count": 10,
   "metadata": {},
   "outputs": [],
   "source": [
    "list_sentences1 = split_sentences(sentence1)\n",
    "list_sentences2 = split_sentences(sentence2)"
   ]
  },
  {
   "cell_type": "code",
   "execution_count": 11,
   "metadata": {},
   "outputs": [
    {
     "name": "stdout",
     "output_type": "stream",
     "text": [
      "[['a', 'person', 'on', 'a', 'horse', 'jumps', 'over', 'a', 'broken', 'down', 'airplane.'], ['a', 'person', 'on', 'a', 'horse', 'jumps', 'over', 'a', 'broken', 'down', 'airplane.'], ['a', 'person', 'on', 'a', 'horse', 'jumps', 'over', 'a', 'broken', 'down', 'airplane.'], ['children', 'smiling', 'and', 'waving', 'at', 'camera'], ['children', 'smiling', 'and', 'waving', 'at', 'camera'], ['children', 'smiling', 'and', 'waving', 'at', 'camera'], ['a', 'boy', 'is', 'jumping', 'on', 'skateboard', 'in', 'the', 'middle', 'of', 'a', 'red', 'bridge.'], ['a', 'boy', 'is', 'jumping', 'on', 'skateboard', 'in', 'the', 'middle', 'of', 'a', 'red', 'bridge.'], ['a', 'boy', 'is', 'jumping', 'on', 'skateboard', 'in', 'the', 'middle', 'of', 'a', 'red', 'bridge.'], ['an', 'older', 'man', 'sits', 'with', 'his', 'orange', 'juice', 'at', 'a', 'small', 'table', 'in', 'a', 'coffee', 'shop', 'while', 'employees', 'in', 'bright', 'colored', 'shirts', 'smile', 'in', 'the', 'background.']]\n",
      "[['a', 'person', 'is', 'training', 'his', 'horse', 'for', 'a', 'competition.'], ['a', 'person', 'is', 'at', 'a', 'diner,', 'ordering', 'an', 'omelette.'], ['a', 'person', 'is', 'outdoors,', 'on', 'a', 'horse.'], ['they', 'are', 'smiling', 'at', 'their', 'parents'], ['there', 'are', 'children', 'present'], ['the', 'kids', 'are', 'frowning'], ['the', 'boy', 'skates', 'down', 'the', 'sidewalk.'], ['the', 'boy', 'does', 'a', 'skateboarding', 'trick.'], ['the', 'boy', 'is', 'wearing', 'safety', 'equipment.'], ['an', 'older', 'man', 'drinks', 'his', 'juice', 'as', 'he', 'waits', 'for', 'his', 'daughter', 'to', 'get', 'off', 'work.']]\n"
     ]
    }
   ],
   "source": [
    "#Print out the first 10 sentences in sentence1 & sentence2 columns to check output\n",
    "print(list_sentences1[:10])\n",
    "print(list_sentences2[:10])"
   ]
  },
  {
   "cell_type": "code",
   "execution_count": 12,
   "metadata": {},
   "outputs": [],
   "source": [
    "#Data Training Generation Function \n",
    "##################\n",
    "#size of vector is vocabulary size (number of unique words in each column)\n",
    "#one_hot_encoding input sample: \n",
    "#     \"he is  a  student\" with the word index is 0 (the word 'he') & size_of_vector = 4, the sentence will be encoded\n",
    "# as   1   0  0   0\n",
    "#################\n",
    "def one_hot_encoding(word_index, size_of_vector):\n",
    "    word_vector = np.zeros(size_of_vector)\n",
    "    word_vector[word_index] = 1\n",
    "    return word_vector    \n",
    "def data_generate(list_sentences):\n",
    "    #measure function performance based on time\n",
    "    start_time = time.time();\n",
    "    data = []\n",
    "    WS = 2 # for windows size\n",
    "    #Only test the first 100 rows \n",
    "    for sentence in list_sentences[:100]:\n",
    "        for index, word in enumerate(sentence):\n",
    "            for neighbor_word in sentence[max(index - WS, 0) : min(index + WS, len(sentence)) + 1] : \n",
    "                if neighbor_word != word:\n",
    "                    data.append([word, neighbor_word])\n",
    "    time_execution = time.time() - start_time\n",
    "    return data, time_execution;\n",
    "#return x_train, y_train for training set\n",
    "def word_to_vector(data, size_of_vector):\n",
    "    x_train = []\n",
    "    y_train = []\n",
    "    for point in data:\n",
    "        x_train.append(one_hot_encoding(words_sentence1_to_int[point[0]], size_of_vector))\n",
    "        y_train.append(one_hot_encoding(words_sentence1_to_int[point[1]], size_of_vector))\n",
    "    x_train = np.asarray(x_train)\n",
    "    y_train = np.asarray(y_train)\n",
    "    return x_train,y_train\n"
   ]
  },
  {
   "cell_type": "code",
   "execution_count": 13,
   "metadata": {},
   "outputs": [],
   "source": [
    "data, time_execution = data_generate(list_sentences1)"
   ]
  },
  {
   "cell_type": "code",
   "execution_count": 14,
   "metadata": {},
   "outputs": [
    {
     "name": "stdout",
     "output_type": "stream",
     "text": [
      "0.012510299682617188\n"
     ]
    }
   ],
   "source": [
    "print(time_execution)"
   ]
  },
  {
   "cell_type": "code",
   "execution_count": 15,
   "metadata": {},
   "outputs": [],
   "source": [
    "x_train, y_train = word_to_vector(data,len(words_sentence1))"
   ]
  },
  {
   "cell_type": "code",
   "execution_count": 16,
   "metadata": {},
   "outputs": [
    {
     "data": {
      "text/plain": [
       "array([[0., 0., 0., ..., 0., 0., 0.],\n",
       "       [0., 0., 0., ..., 0., 0., 0.],\n",
       "       [0., 0., 0., ..., 0., 0., 0.],\n",
       "       ...,\n",
       "       [0., 0., 0., ..., 0., 0., 0.],\n",
       "       [0., 0., 0., ..., 0., 0., 0.],\n",
       "       [0., 0., 0., ..., 0., 0., 0.]])"
      ]
     },
     "execution_count": 16,
     "metadata": {},
     "output_type": "execute_result"
    }
   ],
   "source": [
    "x_train"
   ]
  },
  {
   "cell_type": "code",
   "execution_count": 17,
   "metadata": {},
   "outputs": [
    {
     "name": "stdout",
     "output_type": "stream",
     "text": [
      "1.0\n"
     ]
    }
   ],
   "source": [
    "for i in x_train[100]:\n",
    "    if i != 0.0: print(i)"
   ]
  },
  {
   "cell_type": "code",
   "execution_count": 18,
   "metadata": {},
   "outputs": [
    {
     "data": {
      "text/plain": [
       "array([0., 0., 0., ..., 0., 0., 0.])"
      ]
     },
     "execution_count": 18,
     "metadata": {},
     "output_type": "execute_result"
    }
   ],
   "source": [
    "x_train[0]"
   ]
  },
  {
   "cell_type": "code",
   "execution_count": 19,
   "metadata": {},
   "outputs": [
    {
     "data": {
      "text/plain": [
       "'ROOT S NP NP DT A NN person PP IN on NP DT a NN horse VP VBZ jumps PP IN over NP DT a JJ broken JJ down NN airplane . .'"
      ]
     },
     "execution_count": 19,
     "metadata": {},
     "output_type": "execute_result"
    }
   ],
   "source": [
    "df_sentence1_parse.iloc[0]"
   ]
  },
  {
   "cell_type": "code",
   "execution_count": 20,
   "metadata": {},
   "outputs": [
    {
     "data": {
      "text/plain": [
       "'ROOT S NP DT A NN person VP VBZ is VP VBG training NP PRP$ his NN horse PP IN for NP DT a NN competition . .'"
      ]
     },
     "execution_count": 20,
     "metadata": {},
     "output_type": "execute_result"
    }
   ],
   "source": [
    "df_sentence2_parse.iloc[0]"
   ]
  },
  {
   "cell_type": "code",
   "execution_count": 21,
   "metadata": {},
   "outputs": [],
   "source": [
    "import re\n"
   ]
  },
  {
   "cell_type": "code",
   "execution_count": 22,
   "metadata": {},
   "outputs": [],
   "source": [
    "#Extract a list of sentence1 parse label\n",
    "list_of_sentences1_parse = []\n",
    "list_of_sentences2_parse = []\n",
    "for row in df_sentence1_parse:\n",
    "    list_of_sentences1_parse.append(' '.join(word for word in row.split(' ') if word.isupper()))\n",
    "    #list_of_sentences1_parse.append(re.sub('[^A-Z]',' ',row))"
   ]
  },
  {
   "cell_type": "code",
   "execution_count": 23,
   "metadata": {},
   "outputs": [
    {
     "data": {
      "text/plain": [
       "['ROOT S NP NP DT A NN PP IN NP DT NN VP VBZ PP IN NP DT JJ JJ NN',\n",
       " 'ROOT S NP NP DT A NN PP IN NP DT NN VP VBZ PP IN NP DT JJ JJ NN',\n",
       " 'ROOT S NP NP DT A NN PP IN NP DT NN VP VBZ PP IN NP DT JJ JJ NN',\n",
       " 'ROOT NP S NP NNP VP VBG CC VBG PP IN NP NN',\n",
       " 'ROOT NP S NP NNP VP VBG CC VBG PP IN NP NN',\n",
       " 'ROOT NP S NP NNP VP VBG CC VBG PP IN NP NN',\n",
       " 'ROOT S NP DT A NN VP VBZ VP VBG PP IN NP NN PP IN NP NP DT NN PP IN NP DT JJ NN',\n",
       " 'ROOT S NP DT A NN VP VBZ VP VBG PP IN NP NN PP IN NP NP DT NN PP IN NP DT JJ NN',\n",
       " 'ROOT S NP DT A NN VP VBZ VP VBG PP IN NP NN PP IN NP NP DT NN PP IN NP DT JJ NN',\n",
       " 'ROOT S NP DT JJR NN VP VBZ PP IN NP NP PRP$ JJ NN PP IN NP NP DT JJ NN PP IN NP DT NN NN SBAR IN S NP NP NNS PP IN NP JJ JJ NNS VP VBP PP IN NP DT NN']"
      ]
     },
     "execution_count": 23,
     "metadata": {},
     "output_type": "execute_result"
    }
   ],
   "source": [
    "list_of_sentences1_parse[:10]"
   ]
  },
  {
   "cell_type": "code",
   "execution_count": 24,
   "metadata": {},
   "outputs": [],
   "source": [
    "#remove extra space \n",
    "# list_of_sentences1_parse_space_removed = []\n",
    "# for sentences in list_of_sentences1_parse:\n",
    "#     list_of_sentences1_parse_space_removed.append(' '.join(sentences.split()))"
   ]
  },
  {
   "cell_type": "code",
   "execution_count": 25,
   "metadata": {},
   "outputs": [],
   "source": [
    "# list_of_sentences1_parse_space_removed[:10]"
   ]
  },
  {
   "cell_type": "code",
   "execution_count": 26,
   "metadata": {},
   "outputs": [],
   "source": [
    "#Extract a list of sentence2 parse label\n",
    "list_of_sentences2_parse = []\n",
    "for row in df_sentence2_parse:\n",
    "    list_of_sentences2_parse.append(' '.join(word for word in row.split(' ') if word.isupper()))\n",
    "    #list_of_sentences2_parse.append(re.sub('[^A-Z]',' ',row))"
   ]
  },
  {
   "cell_type": "code",
   "execution_count": 27,
   "metadata": {},
   "outputs": [
    {
     "data": {
      "text/plain": [
       "['ROOT S NP DT A NN VP VBZ VP VBG NP PRP$ NN PP IN NP DT NN',\n",
       " 'ROOT S NP DT A NN VP VBZ PP IN NP DT NN S VP VBG NP DT NN',\n",
       " 'ROOT S NP DT A NN VP VBZ ADVP RB PP IN NP DT NN',\n",
       " 'ROOT S NP PRP VP VBP VP VBG PP IN NP PRP$ NNS',\n",
       " 'ROOT S NP EX VP VBP NP NNS ADVP RB',\n",
       " 'ROOT S NP DT NNS VP VBP VP VBG',\n",
       " 'ROOT S NP DT NN VP VBZ PRT RP NP DT NN',\n",
       " 'ROOT S NP DT NN VP VBZ NP DT NNP NN',\n",
       " 'ROOT S NP DT NN VP VBZ VP VBG NP NN NN',\n",
       " 'ROOT S NP DT JJR NN VP VBZ NP PRP$ NN SBAR IN S NP PRP VP VBZ PP IN NP PRP$ NN S VP TO VP VB PRT RP NP NN']"
      ]
     },
     "execution_count": 27,
     "metadata": {},
     "output_type": "execute_result"
    }
   ],
   "source": [
    "list_of_sentences2_parse[:10]"
   ]
  },
  {
   "cell_type": "code",
   "execution_count": 28,
   "metadata": {},
   "outputs": [],
   "source": [
    "#remove extra space \n",
    "# list_of_sentences2_parse_space_removed = []\n",
    "# for sentences in list_of_sentences2_parse:\n",
    "#     list_of_sentences2_parse_space_removed.append(' '.join(sentences.split()))"
   ]
  },
  {
   "cell_type": "code",
   "execution_count": 29,
   "metadata": {},
   "outputs": [],
   "source": [
    "# list_of_sentences2_parse_space_removed[:10]"
   ]
  },
  {
   "cell_type": "code",
   "execution_count": 30,
   "metadata": {},
   "outputs": [],
   "source": [
    "#list of part-of-speech tagset \n",
    "list_part_of_speech_tagset = ['CC','CD','DT','EX','FW','IN','JJ','JJR','JJS','LS'\n",
    ",'MD','NN','NNS','NNP','NNPS','PTD','POS','PRP','PRP$','RB','RBR','RBS','RP','SYM','TO',\n",
    "                              'UH','VB','VBD','VBG','VBN','VBP','VBZ','WDT','WP','WP$','WRB',\n",
    "                             '$','#','\"',',','.',':']"
   ]
  },
  {
   "cell_type": "code",
   "execution_count": 31,
   "metadata": {},
   "outputs": [],
   "source": [
    "#tag-to-be-removed\n",
    "list_tag_to_be_removed = ['ROOT','S','NP','VP','ADVP','']"
   ]
  },
  {
   "cell_type": "code",
   "execution_count": 32,
   "metadata": {},
   "outputs": [],
   "source": [
    "#list of all labels \n",
    "list_all_tag_labels = [];\n",
    "for sentences in list_of_sentences1_parse:\n",
    "    for tag_labels in sentences.split(' '):\n",
    "        list_all_tag_labels.append(tag_labels)"
   ]
  },
  {
   "cell_type": "code",
   "execution_count": 33,
   "metadata": {},
   "outputs": [],
   "source": [
    "tag_freq = []\n",
    "for sentence in list_of_sentences1_parse[:100]:\n",
    "    for tag_label in list_part_of_speech_tagset:\n",
    "        tag_freq.append(list_all_tag_labels.count(tag_label))"
   ]
  },
  {
   "cell_type": "code",
   "execution_count": 35,
   "metadata": {},
   "outputs": [
    {
     "data": {
      "text/plain": [
       "[175191,\n",
       " 137687,\n",
       " 1302501,\n",
       " 5997,\n",
       " 845,\n",
       " 1046234,\n",
       " 664902,\n",
       " 10954,\n",
       " 501,\n",
       " 60,\n",
       " 1613,\n",
       " 1789415,\n",
       " 442153,\n",
       " 61783,\n",
       " 2018,\n",
       " 0,\n",
       " 7405,\n",
       " 45468,\n",
       " 83960,\n",
       " 66538]"
      ]
     },
     "execution_count": 35,
     "metadata": {},
     "output_type": "execute_result"
    }
   ],
   "source": [
    "tag_freq[:20]"
   ]
  }
 ],
 "metadata": {
  "kernelspec": {
   "display_name": "Python 3",
   "language": "python",
   "name": "python3"
  },
  "language_info": {
   "codemirror_mode": {
    "name": "ipython",
    "version": 3
   },
   "file_extension": ".py",
   "mimetype": "text/x-python",
   "name": "python",
   "nbconvert_exporter": "python",
   "pygments_lexer": "ipython3",
   "version": "3.7.4"
  }
 },
 "nbformat": 4,
 "nbformat_minor": 4
}
