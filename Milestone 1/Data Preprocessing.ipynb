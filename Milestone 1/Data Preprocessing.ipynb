{
 "cells": [
  {
   "cell_type": "code",
   "execution_count": 4,
   "metadata": {},
   "outputs": [],
   "source": [
    "## Pre-processing data"
   ]
  },
  {
   "cell_type": "code",
   "execution_count": 5,
   "metadata": {
    "colab": {
     "base_uri": "https://localhost:8080/",
     "height": 248
    },
    "colab_type": "code",
    "id": "Kvv6MLzM2sqm",
    "outputId": "f3aa3e61-2a49-4f42-f900-01f3e5dcd0c2"
   },
   "outputs": [
    {
     "name": "stdout",
     "output_type": "stream",
     "text": [
      "Wall time: 8.38 s\n"
     ]
    }
   ],
   "source": [
    "%%time\n",
    "import pandas as pd\n",
    "df_train = pd.read_csv(r'Export_CSV\\training_clean.csv')"
   ]
  },
  {
   "cell_type": "code",
   "execution_count": 6,
   "metadata": {},
   "outputs": [
    {
     "data": {
      "text/html": [
       "<div>\n",
       "<style scoped>\n",
       "    .dataframe tbody tr th:only-of-type {\n",
       "        vertical-align: middle;\n",
       "    }\n",
       "\n",
       "    .dataframe tbody tr th {\n",
       "        vertical-align: top;\n",
       "    }\n",
       "\n",
       "    .dataframe thead th {\n",
       "        text-align: right;\n",
       "    }\n",
       "</style>\n",
       "<table border=\"1\" class=\"dataframe\">\n",
       "  <thead>\n",
       "    <tr style=\"text-align: right;\">\n",
       "      <th></th>\n",
       "      <th>gold_label</th>\n",
       "      <th>sentence1_binary_parse</th>\n",
       "      <th>sentence2_binary_parse</th>\n",
       "      <th>sentence1_parse</th>\n",
       "      <th>sentence2_parse</th>\n",
       "      <th>sentence1</th>\n",
       "      <th>sentence2</th>\n",
       "      <th>label1</th>\n",
       "      <th>label2</th>\n",
       "      <th>label3</th>\n",
       "      <th>label4</th>\n",
       "      <th>label5</th>\n",
       "    </tr>\n",
       "  </thead>\n",
       "  <tbody>\n",
       "    <tr>\n",
       "      <td>0</td>\n",
       "      <td>neutral</td>\n",
       "      <td>( ( ( A person ) ( on ( a horse ) ) ) ( ( jump...</td>\n",
       "      <td>( ( A person ) ( ( is ( ( training ( his horse...</td>\n",
       "      <td>(ROOT (S (NP (NP (DT A) (NN person)) (PP (IN o...</td>\n",
       "      <td>(ROOT (S (NP (DT A) (NN person)) (VP (VBZ is) ...</td>\n",
       "      <td>A person on a horse jumps over a broken down a...</td>\n",
       "      <td>A person is training his horse for a competition.</td>\n",
       "      <td>neutral</td>\n",
       "      <td>NaN</td>\n",
       "      <td>NaN</td>\n",
       "      <td>NaN</td>\n",
       "      <td>NaN</td>\n",
       "    </tr>\n",
       "    <tr>\n",
       "      <td>1</td>\n",
       "      <td>contradiction</td>\n",
       "      <td>( ( ( A person ) ( on ( a horse ) ) ) ( ( jump...</td>\n",
       "      <td>( ( A person ) ( ( ( ( is ( at ( a diner ) ) )...</td>\n",
       "      <td>(ROOT (S (NP (NP (DT A) (NN person)) (PP (IN o...</td>\n",
       "      <td>(ROOT (S (NP (DT A) (NN person)) (VP (VBZ is) ...</td>\n",
       "      <td>A person on a horse jumps over a broken down a...</td>\n",
       "      <td>A person is at a diner, ordering an omelette.</td>\n",
       "      <td>contradiction</td>\n",
       "      <td>NaN</td>\n",
       "      <td>NaN</td>\n",
       "      <td>NaN</td>\n",
       "      <td>NaN</td>\n",
       "    </tr>\n",
       "    <tr>\n",
       "      <td>2</td>\n",
       "      <td>entailment</td>\n",
       "      <td>( ( ( A person ) ( on ( a horse ) ) ) ( ( jump...</td>\n",
       "      <td>( ( A person ) ( ( ( ( is outdoors ) , ) ( on ...</td>\n",
       "      <td>(ROOT (S (NP (NP (DT A) (NN person)) (PP (IN o...</td>\n",
       "      <td>(ROOT (S (NP (DT A) (NN person)) (VP (VBZ is) ...</td>\n",
       "      <td>A person on a horse jumps over a broken down a...</td>\n",
       "      <td>A person is outdoors, on a horse.</td>\n",
       "      <td>entailment</td>\n",
       "      <td>NaN</td>\n",
       "      <td>NaN</td>\n",
       "      <td>NaN</td>\n",
       "      <td>NaN</td>\n",
       "    </tr>\n",
       "    <tr>\n",
       "      <td>3</td>\n",
       "      <td>neutral</td>\n",
       "      <td>( Children ( ( ( smiling and ) waving ) ( at c...</td>\n",
       "      <td>( They ( are ( smiling ( at ( their parents ) ...</td>\n",
       "      <td>(ROOT (NP (S (NP (NNP Children)) (VP (VBG smil...</td>\n",
       "      <td>(ROOT (S (NP (PRP They)) (VP (VBP are) (VP (VB...</td>\n",
       "      <td>Children smiling and waving at camera</td>\n",
       "      <td>They are smiling at their parents</td>\n",
       "      <td>neutral</td>\n",
       "      <td>NaN</td>\n",
       "      <td>NaN</td>\n",
       "      <td>NaN</td>\n",
       "      <td>NaN</td>\n",
       "    </tr>\n",
       "    <tr>\n",
       "      <td>4</td>\n",
       "      <td>entailment</td>\n",
       "      <td>( Children ( ( ( smiling and ) waving ) ( at c...</td>\n",
       "      <td>( There ( ( are children ) present ) )</td>\n",
       "      <td>(ROOT (NP (S (NP (NNP Children)) (VP (VBG smil...</td>\n",
       "      <td>(ROOT (S (NP (EX There)) (VP (VBP are) (NP (NN...</td>\n",
       "      <td>Children smiling and waving at camera</td>\n",
       "      <td>There are children present</td>\n",
       "      <td>entailment</td>\n",
       "      <td>NaN</td>\n",
       "      <td>NaN</td>\n",
       "      <td>NaN</td>\n",
       "      <td>NaN</td>\n",
       "    </tr>\n",
       "  </tbody>\n",
       "</table>\n",
       "</div>"
      ],
      "text/plain": [
       "      gold_label                             sentence1_binary_parse  \\\n",
       "0        neutral  ( ( ( A person ) ( on ( a horse ) ) ) ( ( jump...   \n",
       "1  contradiction  ( ( ( A person ) ( on ( a horse ) ) ) ( ( jump...   \n",
       "2     entailment  ( ( ( A person ) ( on ( a horse ) ) ) ( ( jump...   \n",
       "3        neutral  ( Children ( ( ( smiling and ) waving ) ( at c...   \n",
       "4     entailment  ( Children ( ( ( smiling and ) waving ) ( at c...   \n",
       "\n",
       "                              sentence2_binary_parse  \\\n",
       "0  ( ( A person ) ( ( is ( ( training ( his horse...   \n",
       "1  ( ( A person ) ( ( ( ( is ( at ( a diner ) ) )...   \n",
       "2  ( ( A person ) ( ( ( ( is outdoors ) , ) ( on ...   \n",
       "3  ( They ( are ( smiling ( at ( their parents ) ...   \n",
       "4             ( There ( ( are children ) present ) )   \n",
       "\n",
       "                                     sentence1_parse  \\\n",
       "0  (ROOT (S (NP (NP (DT A) (NN person)) (PP (IN o...   \n",
       "1  (ROOT (S (NP (NP (DT A) (NN person)) (PP (IN o...   \n",
       "2  (ROOT (S (NP (NP (DT A) (NN person)) (PP (IN o...   \n",
       "3  (ROOT (NP (S (NP (NNP Children)) (VP (VBG smil...   \n",
       "4  (ROOT (NP (S (NP (NNP Children)) (VP (VBG smil...   \n",
       "\n",
       "                                     sentence2_parse  \\\n",
       "0  (ROOT (S (NP (DT A) (NN person)) (VP (VBZ is) ...   \n",
       "1  (ROOT (S (NP (DT A) (NN person)) (VP (VBZ is) ...   \n",
       "2  (ROOT (S (NP (DT A) (NN person)) (VP (VBZ is) ...   \n",
       "3  (ROOT (S (NP (PRP They)) (VP (VBP are) (VP (VB...   \n",
       "4  (ROOT (S (NP (EX There)) (VP (VBP are) (NP (NN...   \n",
       "\n",
       "                                           sentence1  \\\n",
       "0  A person on a horse jumps over a broken down a...   \n",
       "1  A person on a horse jumps over a broken down a...   \n",
       "2  A person on a horse jumps over a broken down a...   \n",
       "3              Children smiling and waving at camera   \n",
       "4              Children smiling and waving at camera   \n",
       "\n",
       "                                           sentence2         label1 label2  \\\n",
       "0  A person is training his horse for a competition.        neutral    NaN   \n",
       "1      A person is at a diner, ordering an omelette.  contradiction    NaN   \n",
       "2                  A person is outdoors, on a horse.     entailment    NaN   \n",
       "3                  They are smiling at their parents        neutral    NaN   \n",
       "4                         There are children present     entailment    NaN   \n",
       "\n",
       "  label3 label4 label5  \n",
       "0    NaN    NaN    NaN  \n",
       "1    NaN    NaN    NaN  \n",
       "2    NaN    NaN    NaN  \n",
       "3    NaN    NaN    NaN  \n",
       "4    NaN    NaN    NaN  "
      ]
     },
     "execution_count": 6,
     "metadata": {},
     "output_type": "execute_result"
    }
   ],
   "source": [
    "df_train.head()"
   ]
  },
  {
   "cell_type": "markdown",
   "metadata": {},
   "source": [
    "## Build a dictionary of POS tags are used in dataset"
   ]
  },
  {
   "cell_type": "code",
   "execution_count": 7,
   "metadata": {},
   "outputs": [
    {
     "name": "stdout",
     "output_type": "stream",
     "text": [
      "Wall time: 0 ns\n"
     ]
    },
    {
     "data": {
      "text/plain": [
       "{'CC': 'Coordinating conjunction',\n",
       " 'CD': 'Cardinal number',\n",
       " 'DT': 'Determiner',\n",
       " 'EX': 'Existential there',\n",
       " 'FW': 'Foreign word',\n",
       " 'IN': 'Preposition or subordinating conjunction',\n",
       " 'JJ': 'Adjective',\n",
       " 'JJR': 'Adjective, comparative',\n",
       " 'JJS': 'Adjective, superlative',\n",
       " 'LS': 'List item marker'}"
      ]
     },
     "execution_count": 7,
     "metadata": {},
     "output_type": "execute_result"
    }
   ],
   "source": [
    "%%time\n",
    "dic_postag = {\n",
    "    'CC' : 'Coordinating conjunction',\n",
    "    'CD' : 'Cardinal number',\n",
    "    'DT' : 'Determiner',\n",
    "    'EX' : 'Existential there',\n",
    "    'FW' : 'Foreign word',\n",
    "    'IN' : 'Preposition or subordinating conjunction',\n",
    "    'JJ' : 'Adjective',\n",
    "    'JJR' : 'Adjective, comparative',\n",
    "    'JJS' : 'Adjective, superlative',\n",
    "    'LS' : 'List item marker',\n",
    "    'MD' : 'Modal',\n",
    "    'NN' : 'Noun, singular or mass',\n",
    "    'NNS' : 'Noun, plural',\n",
    "    'NNP' : 'Proper noun, singular',\n",
    "    'NNPS' : 'Proper noun, plural',\n",
    "    'PDT' : 'Perdeterminer',\n",
    "    'POS' : 'Possessive ending',\n",
    "    'PRP' : 'Personal pronoun',\n",
    "    'PRP$' : 'Possessive pronoun',\n",
    "    'RB' : 'Adverb',\n",
    "    'RBR' : 'Adverb, comparative',\n",
    "    'RBS' : 'Adverb, superlative',\n",
    "    'RP' : 'Particle',\n",
    "    'SYM' : 'Symbol',\n",
    "    'TO' : 'to',\n",
    "    'UH' : 'Interjection',\n",
    "    'VB' : 'Verb, base form',\n",
    "    'VBD' : 'Verb, past tense',\n",
    "    'VBG' : 'Verb, gerund or present participle',\n",
    "    'VBN': 'Verb, past participle',\n",
    "    'VBP' : 'Verb, non-3rd persion singular present',\n",
    "    'VBZ' : 'Verb, 3rd persion singular present',\n",
    "    'WDT' : 'Wh-determiner',\n",
    "    'WP' : 'Wh-pronoun',\n",
    "    'WP$' : 'Possessive wh-pronoun',\n",
    "    'WRB' : 'Wh-adverb'\n",
    "}\n",
    "\n",
    "first_ten = {k: dic_postag[k] for k in list(dic_postag)[:10]}\n",
    "first_ten"
   ]
  },
  {
   "cell_type": "markdown",
   "metadata": {},
   "source": [
    "## Count number of POS tags in each pair of sentence"
   ]
  },
  {
   "cell_type": "code",
   "execution_count": 8,
   "metadata": {},
   "outputs": [
    {
     "name": "stdout",
     "output_type": "stream",
     "text": [
      "['CC1', 'CD1', 'DT1', 'EX1', 'FW1', 'IN1', 'JJ1', 'JJR1', 'JJS1', 'LS1', 'MD1', 'NN1', 'NNS1', 'NNP1', 'NNPS1', 'PDT1', 'POS1', 'PRP1', 'PRP$1', 'RB1', 'RBR1', 'RBS1', 'RP1', 'SYM1', 'TO1', 'UH1', 'VB1', 'VBD1', 'VBG1', 'VBN1', 'VBP1', 'VBZ1', 'WDT1', 'WP1', 'WP$1', 'WRB1', 'CC2', 'CD2', 'DT2', 'EX2', 'FW2', 'IN2', 'JJ2', 'JJR2', 'JJS2', 'LS2', 'MD2', 'NN2', 'NNS2', 'NNP2', 'NNPS2', 'PDT2', 'POS2', 'PRP2', 'PRP$2', 'RB2', 'RBR2', 'RBS2', 'RP2', 'SYM2', 'TO2', 'UH2', 'VB2', 'VBD2', 'VBG2', 'VBN2', 'VBP2', 'VBZ2', 'WDT2', 'WP2', 'WP$2', 'WRB2']\n"
     ]
    }
   ],
   "source": [
    "# Create feature name (column name) for new dataframe vector feature\n",
    "cols = [key+'1' for key in dic_postag.keys()] + [key+'2' for key in dic_postag.keys()]\n",
    "print(cols)"
   ]
  },
  {
   "cell_type": "code",
   "execution_count": 9,
   "metadata": {},
   "outputs": [
    {
     "name": "stdout",
     "output_type": "stream",
     "text": [
      "Wall time: 23.5 s\n"
     ]
    },
    {
     "data": {
      "text/plain": [
       "(549361, 73)"
      ]
     },
     "execution_count": 9,
     "metadata": {},
     "output_type": "execute_result"
    }
   ],
   "source": [
    "%%time\n",
    "df_vector_feature = pd.DataFrame()\n",
    "df_vector_feature['gold_label'] = df_train['gold_label']\n",
    "for feature_name in cols:\n",
    "    df_vector_feature[feature_name] = [0] * df_train.shape[0] # df_train.shape[0] return the number of sample row in df_train\n",
    "    \n",
    "df_vector_feature.shape"
   ]
  },
  {
   "cell_type": "code",
   "execution_count": 10,
   "metadata": {},
   "outputs": [
    {
     "data": {
      "text/html": [
       "<div>\n",
       "<style scoped>\n",
       "    .dataframe tbody tr th:only-of-type {\n",
       "        vertical-align: middle;\n",
       "    }\n",
       "\n",
       "    .dataframe tbody tr th {\n",
       "        vertical-align: top;\n",
       "    }\n",
       "\n",
       "    .dataframe thead th {\n",
       "        text-align: right;\n",
       "    }\n",
       "</style>\n",
       "<table border=\"1\" class=\"dataframe\">\n",
       "  <thead>\n",
       "    <tr style=\"text-align: right;\">\n",
       "      <th></th>\n",
       "      <th>gold_label</th>\n",
       "      <th>CC1</th>\n",
       "      <th>CD1</th>\n",
       "      <th>DT1</th>\n",
       "      <th>EX1</th>\n",
       "      <th>FW1</th>\n",
       "      <th>IN1</th>\n",
       "      <th>JJ1</th>\n",
       "      <th>JJR1</th>\n",
       "      <th>JJS1</th>\n",
       "      <th>...</th>\n",
       "      <th>VB2</th>\n",
       "      <th>VBD2</th>\n",
       "      <th>VBG2</th>\n",
       "      <th>VBN2</th>\n",
       "      <th>VBP2</th>\n",
       "      <th>VBZ2</th>\n",
       "      <th>WDT2</th>\n",
       "      <th>WP2</th>\n",
       "      <th>WP$2</th>\n",
       "      <th>WRB2</th>\n",
       "    </tr>\n",
       "  </thead>\n",
       "  <tbody>\n",
       "    <tr>\n",
       "      <td>0</td>\n",
       "      <td>neutral</td>\n",
       "      <td>0</td>\n",
       "      <td>0</td>\n",
       "      <td>0</td>\n",
       "      <td>0</td>\n",
       "      <td>0</td>\n",
       "      <td>0</td>\n",
       "      <td>0</td>\n",
       "      <td>0</td>\n",
       "      <td>0</td>\n",
       "      <td>...</td>\n",
       "      <td>0</td>\n",
       "      <td>0</td>\n",
       "      <td>0</td>\n",
       "      <td>0</td>\n",
       "      <td>0</td>\n",
       "      <td>0</td>\n",
       "      <td>0</td>\n",
       "      <td>0</td>\n",
       "      <td>0</td>\n",
       "      <td>0</td>\n",
       "    </tr>\n",
       "    <tr>\n",
       "      <td>1</td>\n",
       "      <td>contradiction</td>\n",
       "      <td>0</td>\n",
       "      <td>0</td>\n",
       "      <td>0</td>\n",
       "      <td>0</td>\n",
       "      <td>0</td>\n",
       "      <td>0</td>\n",
       "      <td>0</td>\n",
       "      <td>0</td>\n",
       "      <td>0</td>\n",
       "      <td>...</td>\n",
       "      <td>0</td>\n",
       "      <td>0</td>\n",
       "      <td>0</td>\n",
       "      <td>0</td>\n",
       "      <td>0</td>\n",
       "      <td>0</td>\n",
       "      <td>0</td>\n",
       "      <td>0</td>\n",
       "      <td>0</td>\n",
       "      <td>0</td>\n",
       "    </tr>\n",
       "    <tr>\n",
       "      <td>2</td>\n",
       "      <td>entailment</td>\n",
       "      <td>0</td>\n",
       "      <td>0</td>\n",
       "      <td>0</td>\n",
       "      <td>0</td>\n",
       "      <td>0</td>\n",
       "      <td>0</td>\n",
       "      <td>0</td>\n",
       "      <td>0</td>\n",
       "      <td>0</td>\n",
       "      <td>...</td>\n",
       "      <td>0</td>\n",
       "      <td>0</td>\n",
       "      <td>0</td>\n",
       "      <td>0</td>\n",
       "      <td>0</td>\n",
       "      <td>0</td>\n",
       "      <td>0</td>\n",
       "      <td>0</td>\n",
       "      <td>0</td>\n",
       "      <td>0</td>\n",
       "    </tr>\n",
       "    <tr>\n",
       "      <td>3</td>\n",
       "      <td>neutral</td>\n",
       "      <td>0</td>\n",
       "      <td>0</td>\n",
       "      <td>0</td>\n",
       "      <td>0</td>\n",
       "      <td>0</td>\n",
       "      <td>0</td>\n",
       "      <td>0</td>\n",
       "      <td>0</td>\n",
       "      <td>0</td>\n",
       "      <td>...</td>\n",
       "      <td>0</td>\n",
       "      <td>0</td>\n",
       "      <td>0</td>\n",
       "      <td>0</td>\n",
       "      <td>0</td>\n",
       "      <td>0</td>\n",
       "      <td>0</td>\n",
       "      <td>0</td>\n",
       "      <td>0</td>\n",
       "      <td>0</td>\n",
       "    </tr>\n",
       "    <tr>\n",
       "      <td>4</td>\n",
       "      <td>entailment</td>\n",
       "      <td>0</td>\n",
       "      <td>0</td>\n",
       "      <td>0</td>\n",
       "      <td>0</td>\n",
       "      <td>0</td>\n",
       "      <td>0</td>\n",
       "      <td>0</td>\n",
       "      <td>0</td>\n",
       "      <td>0</td>\n",
       "      <td>...</td>\n",
       "      <td>0</td>\n",
       "      <td>0</td>\n",
       "      <td>0</td>\n",
       "      <td>0</td>\n",
       "      <td>0</td>\n",
       "      <td>0</td>\n",
       "      <td>0</td>\n",
       "      <td>0</td>\n",
       "      <td>0</td>\n",
       "      <td>0</td>\n",
       "    </tr>\n",
       "  </tbody>\n",
       "</table>\n",
       "<p>5 rows × 73 columns</p>\n",
       "</div>"
      ],
      "text/plain": [
       "      gold_label  CC1  CD1  DT1  EX1  FW1  IN1  JJ1  JJR1  JJS1  ...  VB2  \\\n",
       "0        neutral    0    0    0    0    0    0    0     0     0  ...    0   \n",
       "1  contradiction    0    0    0    0    0    0    0     0     0  ...    0   \n",
       "2     entailment    0    0    0    0    0    0    0     0     0  ...    0   \n",
       "3        neutral    0    0    0    0    0    0    0     0     0  ...    0   \n",
       "4     entailment    0    0    0    0    0    0    0     0     0  ...    0   \n",
       "\n",
       "   VBD2  VBG2  VBN2  VBP2  VBZ2  WDT2  WP2  WP$2  WRB2  \n",
       "0     0     0     0     0     0     0    0     0     0  \n",
       "1     0     0     0     0     0     0    0     0     0  \n",
       "2     0     0     0     0     0     0    0     0     0  \n",
       "3     0     0     0     0     0     0    0     0     0  \n",
       "4     0     0     0     0     0     0    0     0     0  \n",
       "\n",
       "[5 rows x 73 columns]"
      ]
     },
     "execution_count": 10,
     "metadata": {},
     "output_type": "execute_result"
    }
   ],
   "source": [
    "df_vector_feature.head()"
   ]
  },
  {
   "cell_type": "markdown",
   "metadata": {},
   "source": [
    "## Example for building vector feature from POS Tag in sentence"
   ]
  },
  {
   "cell_type": "code",
   "execution_count": 11,
   "metadata": {},
   "outputs": [
    {
     "data": {
      "text/plain": [
       "'(ROOT (S (NP (NP (DT A) (NN person)) (PP (IN on) (NP (DT a) (NN horse)))) (VP (VBZ jumps) (PP (IN over) (NP (DT a) (JJ broken) (JJ down) (NN airplane)))) (. .)))'"
      ]
     },
     "execution_count": 11,
     "metadata": {},
     "output_type": "execute_result"
    }
   ],
   "source": [
    "df_train['sentence1_parse'][0]"
   ]
  },
  {
   "cell_type": "code",
   "execution_count": 15,
   "metadata": {},
   "outputs": [
    {
     "name": "stdout",
     "output_type": "stream",
     "text": [
      "DT 3\n",
      "IN 2\n",
      "JJ 2\n",
      "NN 3\n",
      "VBZ 1\n"
     ]
    }
   ],
   "source": [
    "import re\n",
    "for key in dic_postag.keys():\n",
    "    count = len(re.findall(key+r'\\s', df_train['sentence1_parse'][0]))\n",
    "    if count != 0: print(key, count)"
   ]
  },
  {
   "cell_type": "markdown",
   "metadata": {},
   "source": [
    "## Start processing the whole dataset and export an csv file for fitting into classifier model"
   ]
  },
  {
   "cell_type": "markdown",
   "metadata": {},
   "source": [
    "### Please run the code below in Pycharm"
   ]
  },
  {
   "cell_type": "code",
   "execution_count": null,
   "metadata": {},
   "outputs": [],
   "source": [
    "%%time\n",
    "import re\n",
    "\n",
    "print('Beginning processing dataframe.')\n",
    "for index, row in df_train[['sentence1_parse', 'sentence2_parse']].iterrows():\n",
    "    for key in dic_postag.keys():\n",
    "        df_vector_feature.loc[index, key + '1'] = len(re.findall(key + r'\\s', row['sentence1_parse']))\n",
    "        df_vector_feature.loc[index, key + '2'] = len(re.findall(key + r'\\s', row['sentence2_parse']))\n",
    "    if index == 999:\n",
    "        export_csv = df_vector_feature.to_csv(r'Export_CSV\\Preprocessing_1,000.csv', index=None, header=True)\n",
    "    elif index == 9999:\n",
    "        export_csv = df_vector_feature.to_csv(r'Export_CSV\\Preprocessing_10,000.csv', index=None, header=True)\n",
    "    elif index == 99999:\n",
    "        export_csv = df_vector_feature.to_csv(r'Export_CSV\\Preprocessing_100,000.csv', index=None, header=True)\n",
    "    elif index == 149999:\n",
    "        export_csv = df_vector_feature.to_csv(r'Export_CSV\\Preprocessing_150,000.csv', index=None, header=True)\n",
    "    elif index == 199999:\n",
    "        export_csv = df_vector_feature.to_csv(r'Export_CSV\\Preprocessing_200,000.csv', index=None, header=True)\n",
    "    elif index == 249999:\n",
    "        export_csv = df_vector_feature.to_csv(r'Export_CSV\\Preprocessing_250,000.csv', index=None, header=True)\n",
    "    elif index == 299999:\n",
    "        export_csv = df_vector_feature.to_csv(r'Export_CSV\\Preprocessing_300,000.csv', index=None, header=True)\n",
    "    elif index == 349999:\n",
    "        export_csv = df_vector_feature.to_csv(r'Export_CSV\\Preprocessing_350,000.csv', index=None, header=True)\n",
    "    elif index == 399999:\n",
    "        export_csv = df_vector_feature.to_csv(r'Export_CSV\\Preprocessing_400,000.csv', index=None, header=True)\n",
    "    elif index == 449999:\n",
    "        export_csv = df_vector_feature.to_csv(r'Export_CSV\\Preprocessing_450,000.csv', index=None, header=True)\n",
    "\n",
    "    if index % 1000 == 0:\n",
    "        print('Epoc', index)\n",
    "\n",
    "print('Output CSV file complete.')\n",
    "export_csv = df_vector_feature.to_csv(r'Export_CSV\\Preprocessing_Complete.csv', index=None, header=True)"
   ]
  }
 ],
 "metadata": {
  "accelerator": "GPU",
  "colab": {
   "collapsed_sections": [],
   "name": "Stanford Natural Language Reference.ipynb",
   "provenance": []
  },
  "kernelspec": {
   "display_name": "Python 3",
   "language": "python",
   "name": "python3"
  },
  "language_info": {
   "codemirror_mode": {
    "name": "ipython",
    "version": 3
   },
   "file_extension": ".py",
   "mimetype": "text/x-python",
   "name": "python",
   "nbconvert_exporter": "python",
   "pygments_lexer": "ipython3",
   "version": "3.7.4"
  }
 },
 "nbformat": 4,
 "nbformat_minor": 4
}
